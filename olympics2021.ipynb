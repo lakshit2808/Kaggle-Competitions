{
  "nbformat": 4,
  "nbformat_minor": 0,
  "metadata": {
    "colab": {
      "name": "olympics2021.ipynb",
      "provenance": [],
      "collapsed_sections": [],
      "authorship_tag": "ABX9TyMDzXQ/F60sgjZu0RFWFkCL",
      "include_colab_link": true
    },
    "kernelspec": {
      "name": "python3",
      "display_name": "Python 3"
    },
    "language_info": {
      "name": "python"
    }
  },
  "cells": [
    {
      "cell_type": "markdown",
      "metadata": {
        "id": "view-in-github",
        "colab_type": "text"
      },
      "source": [
        "<a href=\"https://colab.research.google.com/github/lakshit2808/Kaggle-Competitions/blob/master/olympics2021.ipynb\" target=\"_parent\"><img src=\"https://colab.research.google.com/assets/colab-badge.svg\" alt=\"Open In Colab\"/></a>"
      ]
    },
    {
      "cell_type": "markdown",
      "metadata": {
        "id": "7pzj-w3H6RQZ"
      },
      "source": [
        "# Olympics 2021 Prediction"
      ]
    },
    {
      "cell_type": "markdown",
      "metadata": {
        "id": "YdKJidSr6Qr4"
      },
      "source": [
        "## Importing Libraries"
      ]
    },
    {
      "cell_type": "code",
      "metadata": {
        "id": "Lx5_h8D16Dba"
      },
      "source": [
        "import pandas as pd\n",
        "import numpy as np"
      ],
      "execution_count": 347,
      "outputs": []
    },
    {
      "cell_type": "markdown",
      "metadata": {
        "id": "0k1QaG7k6cHN"
      },
      "source": [
        "## Importing Dataset"
      ]
    },
    {
      "cell_type": "code",
      "metadata": {
        "id": "dpVAeX7C6Otc"
      },
      "source": [
        "df = pd.read_csv('athletes.csv')\n"
      ],
      "execution_count": 348,
      "outputs": []
    },
    {
      "cell_type": "markdown",
      "metadata": {
        "id": "0IwQrMoa_SC5"
      },
      "source": [
        "## Data Preprocessing"
      ]
    },
    {
      "cell_type": "code",
      "metadata": {
        "colab": {
          "base_uri": "https://localhost:8080/",
          "height": 203
        },
        "id": "imk3gNCo_VhR",
        "outputId": "2bb4ccf4-51d6-4f18-81cb-d32d8d2c91b0"
      },
      "source": [
        "# Deleting unnecessary columns\n",
        "del df['dob'], df['id'], df['name']\n",
        "df['nationality'] = df['nationality'].astype(str)\n",
        "df.head()"
      ],
      "execution_count": 349,
      "outputs": [
        {
          "output_type": "execute_result",
          "data": {
            "text/html": [
              "<div>\n",
              "<style scoped>\n",
              "    .dataframe tbody tr th:only-of-type {\n",
              "        vertical-align: middle;\n",
              "    }\n",
              "\n",
              "    .dataframe tbody tr th {\n",
              "        vertical-align: top;\n",
              "    }\n",
              "\n",
              "    .dataframe thead th {\n",
              "        text-align: right;\n",
              "    }\n",
              "</style>\n",
              "<table border=\"1\" class=\"dataframe\">\n",
              "  <thead>\n",
              "    <tr style=\"text-align: right;\">\n",
              "      <th></th>\n",
              "      <th>nationality</th>\n",
              "      <th>sex</th>\n",
              "      <th>height</th>\n",
              "      <th>weight</th>\n",
              "      <th>sport</th>\n",
              "      <th>gold</th>\n",
              "      <th>silver</th>\n",
              "      <th>bronze</th>\n",
              "    </tr>\n",
              "  </thead>\n",
              "  <tbody>\n",
              "    <tr>\n",
              "      <th>0</th>\n",
              "      <td>ESP</td>\n",
              "      <td>male</td>\n",
              "      <td>1.72</td>\n",
              "      <td>64.0</td>\n",
              "      <td>athletics</td>\n",
              "      <td>0</td>\n",
              "      <td>0</td>\n",
              "      <td>0</td>\n",
              "    </tr>\n",
              "    <tr>\n",
              "      <th>1</th>\n",
              "      <td>KOR</td>\n",
              "      <td>female</td>\n",
              "      <td>1.68</td>\n",
              "      <td>56.0</td>\n",
              "      <td>fencing</td>\n",
              "      <td>0</td>\n",
              "      <td>0</td>\n",
              "      <td>0</td>\n",
              "    </tr>\n",
              "    <tr>\n",
              "      <th>2</th>\n",
              "      <td>CAN</td>\n",
              "      <td>male</td>\n",
              "      <td>1.98</td>\n",
              "      <td>79.0</td>\n",
              "      <td>athletics</td>\n",
              "      <td>0</td>\n",
              "      <td>0</td>\n",
              "      <td>1</td>\n",
              "    </tr>\n",
              "    <tr>\n",
              "      <th>3</th>\n",
              "      <td>MDA</td>\n",
              "      <td>male</td>\n",
              "      <td>1.83</td>\n",
              "      <td>80.0</td>\n",
              "      <td>taekwondo</td>\n",
              "      <td>0</td>\n",
              "      <td>0</td>\n",
              "      <td>0</td>\n",
              "    </tr>\n",
              "    <tr>\n",
              "      <th>4</th>\n",
              "      <td>NZL</td>\n",
              "      <td>male</td>\n",
              "      <td>1.81</td>\n",
              "      <td>71.0</td>\n",
              "      <td>cycling</td>\n",
              "      <td>0</td>\n",
              "      <td>0</td>\n",
              "      <td>0</td>\n",
              "    </tr>\n",
              "  </tbody>\n",
              "</table>\n",
              "</div>"
            ],
            "text/plain": [
              "  nationality     sex  height  weight      sport  gold  silver  bronze\n",
              "0         ESP    male    1.72    64.0  athletics     0       0       0\n",
              "1         KOR  female    1.68    56.0    fencing     0       0       0\n",
              "2         CAN    male    1.98    79.0  athletics     0       0       1\n",
              "3         MDA    male    1.83    80.0  taekwondo     0       0       0\n",
              "4         NZL    male    1.81    71.0    cycling     0       0       0"
            ]
          },
          "metadata": {
            "tags": []
          },
          "execution_count": 349
        }
      ]
    },
    {
      "cell_type": "markdown",
      "metadata": {
        "id": "A9gLhk5d_vtM"
      },
      "source": [
        "### Handling Missing Values"
      ]
    },
    {
      "cell_type": "code",
      "metadata": {
        "colab": {
          "base_uri": "https://localhost:8080/"
        },
        "id": "0DDioTxW_uHV",
        "outputId": "a83b3f4e-d4b6-46ab-cb34-453d197b608e"
      },
      "source": [
        "df.isnull().sum()"
      ],
      "execution_count": 350,
      "outputs": [
        {
          "output_type": "execute_result",
          "data": {
            "text/plain": [
              "nationality      0\n",
              "sex              0\n",
              "height         330\n",
              "weight         659\n",
              "sport            0\n",
              "gold             0\n",
              "silver           0\n",
              "bronze           0\n",
              "dtype: int64"
            ]
          },
          "metadata": {
            "tags": []
          },
          "execution_count": 350
        }
      ]
    },
    {
      "cell_type": "code",
      "metadata": {
        "id": "vyGzoGnp_0Dp"
      },
      "source": [
        "from sklearn.impute import SimpleImputer\n",
        "imputer = SimpleImputer(missing_values=np.nan, strategy='mean')\n",
        "imputer.fit(df.iloc[:,2:4])\n",
        "df.iloc[:,2:4] = imputer.transform(df.iloc[:,2:4])"
      ],
      "execution_count": 351,
      "outputs": []
    },
    {
      "cell_type": "code",
      "metadata": {
        "colab": {
          "base_uri": "https://localhost:8080/"
        },
        "id": "8eMZKWmm6kUL",
        "outputId": "bc57db9e-7adf-4040-bea6-9222584159f0"
      },
      "source": [
        "df.isnull().sum()"
      ],
      "execution_count": 352,
      "outputs": [
        {
          "output_type": "execute_result",
          "data": {
            "text/plain": [
              "nationality    0\n",
              "sex            0\n",
              "height         0\n",
              "weight         0\n",
              "sport          0\n",
              "gold           0\n",
              "silver         0\n",
              "bronze         0\n",
              "dtype: int64"
            ]
          },
          "metadata": {
            "tags": []
          },
          "execution_count": 352
        }
      ]
    },
    {
      "cell_type": "code",
      "metadata": {
        "id": "xqtbnxomfnmM"
      },
      "source": [
        "X = df.iloc[:, 0:5].values\n",
        "Y = df.iloc[:,[5,6,7]].values"
      ],
      "execution_count": 353,
      "outputs": []
    },
    {
      "cell_type": "markdown",
      "metadata": {
        "id": "xBhiRnvsKWq5"
      },
      "source": [
        "### Handling Categorical Data"
      ]
    },
    {
      "cell_type": "markdown",
      "metadata": {
        "id": "cTIYOUFSSRsn"
      },
      "source": [
        "#### Nationality"
      ]
    },
    {
      "cell_type": "code",
      "metadata": {
        "colab": {
          "base_uri": "https://localhost:8080/"
        },
        "id": "CkRICPAi81lH",
        "outputId": "90c4f023-1505-4d98-8fef-97bf315b58f4"
      },
      "source": [
        "print(len(df.nationality.unique()))\n",
        "len(df.sport.unique())"
      ],
      "execution_count": 354,
      "outputs": [
        {
          "output_type": "stream",
          "text": [
            "207\n"
          ],
          "name": "stdout"
        },
        {
          "output_type": "execute_result",
          "data": {
            "text/plain": [
              "28"
            ]
          },
          "metadata": {
            "tags": []
          },
          "execution_count": 354
        }
      ]
    },
    {
      "cell_type": "code",
      "metadata": {
        "id": "cSzz4c_kMbsG"
      },
      "source": [
        "X = X.transpose()"
      ],
      "execution_count": 355,
      "outputs": []
    },
    {
      "cell_type": "code",
      "metadata": {
        "id": "95c9WTXPMb_Z"
      },
      "source": [
        "from sklearn.preprocessing import LabelEncoder\n",
        "le = LabelEncoder()\n",
        "X[0]= le.fit_transform(X[0])"
      ],
      "execution_count": 356,
      "outputs": []
    },
    {
      "cell_type": "code",
      "metadata": {
        "colab": {
          "base_uri": "https://localhost:8080/"
        },
        "id": "STs7rYkmZICi",
        "outputId": "567d91c2-5fec-4745-935b-ff736ed2de85"
      },
      "source": [
        "X"
      ],
      "execution_count": 357,
      "outputs": [
        {
          "output_type": "execute_result",
          "data": {
            "text/plain": [
              "array([[59, 102, 33, ..., 38, 202, 158],\n",
              "       ['male', 'female', 'male', ..., 'male', 'male', 'male'],\n",
              "       [1.72, 1.68, 1.98, ..., 1.85, 1.6, 1.85],\n",
              "       [64.0, 56.0, 79.0, ..., 100.0, 56.0, 70.0],\n",
              "       ['athletics', 'fencing', 'athletics', ..., 'wrestling',\n",
              "        'weightlifting', 'athletics']], dtype=object)"
            ]
          },
          "metadata": {
            "tags": []
          },
          "execution_count": 357
        }
      ]
    },
    {
      "cell_type": "markdown",
      "metadata": {
        "id": "gco2zKN1SVMC"
      },
      "source": [
        "#### Sports"
      ]
    },
    {
      "cell_type": "code",
      "metadata": {
        "id": "fixFHvXMSd5g"
      },
      "source": [
        "from sklearn.preprocessing import LabelEncoder\n",
        "le = LabelEncoder()\n",
        "X[4]= le.fit_transform(X[4])"
      ],
      "execution_count": 358,
      "outputs": []
    },
    {
      "cell_type": "code",
      "metadata": {
        "colab": {
          "base_uri": "https://localhost:8080/"
        },
        "id": "bXwS_LCUSlpN",
        "outputId": "22f9de98-b84b-47d8-92d1-adbac4389920"
      },
      "source": [
        "X"
      ],
      "execution_count": 359,
      "outputs": [
        {
          "output_type": "execute_result",
          "data": {
            "text/plain": [
              "array([[59, 102, 33, ..., 38, 202, 158],\n",
              "       ['male', 'female', 'male', ..., 'male', 'male', 'male'],\n",
              "       [1.72, 1.68, 1.98, ..., 1.85, 1.6, 1.85],\n",
              "       [64.0, 56.0, 79.0, ..., 100.0, 56.0, 70.0],\n",
              "       [2, 9, 2, ..., 27, 26, 2]], dtype=object)"
            ]
          },
          "metadata": {
            "tags": []
          },
          "execution_count": 359
        }
      ]
    },
    {
      "cell_type": "markdown",
      "metadata": {
        "id": "_zuocuMQSr-k"
      },
      "source": [
        "#### Gender"
      ]
    },
    {
      "cell_type": "code",
      "metadata": {
        "id": "ZCtUnHmUS3pA"
      },
      "source": [
        "from sklearn.preprocessing import LabelEncoder\n",
        "le = LabelEncoder()\n",
        "X[1] = le.fit_transform(X[1])"
      ],
      "execution_count": 360,
      "outputs": []
    },
    {
      "cell_type": "code",
      "metadata": {
        "colab": {
          "base_uri": "https://localhost:8080/"
        },
        "id": "nEiDtioZS6TD",
        "outputId": "d28ef74c-0740-4d0e-a03c-3fb869fc72b0"
      },
      "source": [
        "X"
      ],
      "execution_count": 361,
      "outputs": [
        {
          "output_type": "execute_result",
          "data": {
            "text/plain": [
              "array([[59, 102, 33, ..., 38, 202, 158],\n",
              "       [1, 0, 1, ..., 1, 1, 1],\n",
              "       [1.72, 1.68, 1.98, ..., 1.85, 1.6, 1.85],\n",
              "       [64.0, 56.0, 79.0, ..., 100.0, 56.0, 70.0],\n",
              "       [2, 9, 2, ..., 27, 26, 2]], dtype=object)"
            ]
          },
          "metadata": {
            "tags": []
          },
          "execution_count": 361
        }
      ]
    },
    {
      "cell_type": "markdown",
      "metadata": {
        "id": "okaqiClpTnDJ"
      },
      "source": [
        "### Comb Cate Data"
      ]
    },
    {
      "cell_type": "code",
      "metadata": {
        "id": "_HEksxkjcR5C"
      },
      "source": [
        "gender = df['sex'].values\n",
        "nationality = df['nationality'].values\n",
        "sports = df['sport'].values"
      ],
      "execution_count": 362,
      "outputs": []
    },
    {
      "cell_type": "code",
      "metadata": {
        "id": "1fki0BwtXGC8"
      },
      "source": [
        "cat_gen = dict(zip(gender ,X[1]))\n",
        "cat_nat = dict(zip(nationality, X[0]))\n",
        "cat_spt = dict(zip(sports, X[4]))"
      ],
      "execution_count": 363,
      "outputs": []
    },
    {
      "cell_type": "code",
      "metadata": {
        "id": "Y9xjrs_ccOEI"
      },
      "source": [
        "cat_data = [cat_nat, cat_gen, cat_spt]"
      ],
      "execution_count": 364,
      "outputs": []
    },
    {
      "cell_type": "markdown",
      "metadata": {
        "id": "iQwVrv50eCk8"
      },
      "source": [
        "## Train Test Split"
      ]
    },
    {
      "cell_type": "code",
      "metadata": {
        "id": "cVrNw7SndO_g"
      },
      "source": [
        "X = X.transpose()"
      ],
      "execution_count": 369,
      "outputs": []
    },
    {
      "cell_type": "code",
      "metadata": {
        "id": "zKYLDBIDgZ1R"
      },
      "source": [
        "from sklearn.model_selection import train_test_split\n",
        "X_train, X_test, Y_train, Y_test = train_test_split(X,Y, test_size = 0.2, random_state = 0)"
      ],
      "execution_count": 421,
      "outputs": []
    },
    {
      "cell_type": "markdown",
      "metadata": {
        "id": "MOjPGfeFiQ2c"
      },
      "source": [
        "## Model Trainning / Testing"
      ]
    },
    {
      "cell_type": "markdown",
      "metadata": {
        "id": "qpv_bCAViTrH"
      },
      "source": [
        "### Multilinear Regression"
      ]
    },
    {
      "cell_type": "code",
      "metadata": {
        "colab": {
          "base_uri": "https://localhost:8080/"
        },
        "id": "nHiEPlZbgsFk",
        "outputId": "f6eacc25-7a08-4350-d91a-e0077eb590af"
      },
      "source": [
        "from sklearn.linear_model import LinearRegression\n",
        "linreg = LinearRegression()\n",
        "linreg.fmit(X_train, Y_train)"
      ],
      "execution_count": 375,
      "outputs": [
        {
          "output_type": "execute_result",
          "data": {
            "text/plain": [
              "LinearRegression(copy_X=True, fit_intercept=True, n_jobs=None, normalize=False)"
            ]
          },
          "metadata": {
            "tags": []
          },
          "execution_count": 375
        }
      ]
    },
    {
      "cell_type": "code",
      "metadata": {
        "id": "0dnlpLtyjp4h"
      },
      "source": [
        "y_pred = linreg.predict(X_test)"
      ],
      "execution_count": 394,
      "outputs": []
    },
    {
      "cell_type": "code",
      "metadata": {
        "colab": {
          "base_uri": "https://localhost:8080/"
        },
        "id": "N9u58rT2g4b0",
        "outputId": "63a02110-2fe2-46ad-e4f3-090226319c1e"
      },
      "source": [
        "from sklearn.metrics import r2_score\n",
        "r2_score(Y_test, y_pred)"
      ],
      "execution_count": 411,
      "outputs": [
        {
          "output_type": "execute_result",
          "data": {
            "text/plain": [
              "0.17836820616884982"
            ]
          },
          "metadata": {
            "tags": []
          },
          "execution_count": 411
        }
      ]
    },
    {
      "cell_type": "markdown",
      "metadata": {
        "id": "8gkx_YHpiiml"
      },
      "source": [
        "### Random Forest Regression"
      ]
    },
    {
      "cell_type": "code",
      "metadata": {
        "colab": {
          "base_uri": "https://localhost:8080/"
        },
        "id": "JoGs3sQMhhYw",
        "outputId": "b84fac54-ef11-40a8-a2a0-ed738777e46c"
      },
      "source": [
        "from sklearn.ensemble import RandomForestRegressor\n",
        "ranForReg = RandomForestRegressor(n_estimators = 245, random_state = 40, max_depth = 14,min_samples_split = 10)\n",
        "ranForReg.fit(X_train, Y_train)"
      ],
      "execution_count": 712,
      "outputs": [
        {
          "output_type": "execute_result",
          "data": {
            "text/plain": [
              "RandomForestRegressor(bootstrap=True, ccp_alpha=0.0, criterion='mse',\n",
              "                      max_depth=14, max_features='auto', max_leaf_nodes=None,\n",
              "                      max_samples=None, min_impurity_decrease=0.0,\n",
              "                      min_impurity_split=None, min_samples_leaf=1,\n",
              "                      min_samples_split=10, min_weight_fraction_leaf=0.0,\n",
              "                      n_estimators=245, n_jobs=None, oob_score=False,\n",
              "                      random_state=40, verbose=0, warm_start=False)"
            ]
          },
          "metadata": {
            "tags": []
          },
          "execution_count": 712
        }
      ]
    },
    {
      "cell_type": "code",
      "metadata": {
        "id": "TodSdJN3j8_k"
      },
      "source": [
        "y_pred = ranForReg.predict(X_test)"
      ],
      "execution_count": 713,
      "outputs": []
    },
    {
      "cell_type": "code",
      "metadata": {
        "id": "CXlh-nNLhmWN"
      },
      "source": [
        "from sklearn.metrics import r2_score\n",
        "r2 = r2_score(Y_test, y_pred)"
      ],
      "execution_count": 720,
      "outputs": []
    },
    {
      "cell_type": "code",
      "metadata": {
        "colab": {
          "base_uri": "https://localhost:8080/"
        },
        "id": "uzwRPUDcuvIt",
        "outputId": "fd104db3-b35b-4d69-f839-f2914eeac671"
      },
      "source": [
        "r2"
      ],
      "execution_count": 721,
      "outputs": [
        {
          "output_type": "execute_result",
          "data": {
            "text/plain": [
              "0.2612262077228933"
            ]
          },
          "metadata": {
            "tags": []
          },
          "execution_count": 721
        }
      ]
    },
    {
      "cell_type": "markdown",
      "metadata": {
        "id": "UVhtrwGGjB47"
      },
      "source": [
        "### Decision Tree"
      ]
    },
    {
      "cell_type": "code",
      "metadata": {
        "colab": {
          "base_uri": "https://localhost:8080/"
        },
        "id": "ekUtm3F9hpvk",
        "outputId": "b2988fee-443c-4649-8677-043dd0d09301"
      },
      "source": [
        "from sklearn.tree import DecisionTreeRegressor\n",
        "desTree = DecisionTreeRegressor(random_state=0)\n",
        "desTree.fit(X_train,Y_train)"
      ],
      "execution_count": 423,
      "outputs": [
        {
          "output_type": "execute_result",
          "data": {
            "text/plain": [
              "DecisionTreeRegressor(ccp_alpha=0.0, criterion='mse', max_depth=None,\n",
              "                      max_features=None, max_leaf_nodes=None,\n",
              "                      min_impurity_decrease=0.0, min_impurity_split=None,\n",
              "                      min_samples_leaf=1, min_samples_split=2,\n",
              "                      min_weight_fraction_leaf=0.0, presort='deprecated',\n",
              "                      random_state=0, splitter='best')"
            ]
          },
          "metadata": {
            "tags": []
          },
          "execution_count": 423
        }
      ]
    },
    {
      "cell_type": "code",
      "metadata": {
        "id": "8vz_bzl8kLL1"
      },
      "source": [
        "y_pred = desTree.predict(X_test)"
      ],
      "execution_count": 401,
      "outputs": []
    },
    {
      "cell_type": "code",
      "metadata": {
        "colab": {
          "base_uri": "https://localhost:8080/"
        },
        "id": "MsGt4ZWajKAY",
        "outputId": "3f175468-3b41-4e7c-f73d-c1b3f5cdce99"
      },
      "source": [
        "from sklearn.metrics import r2_score\n",
        "r2_score(Y_test, y_pred)"
      ],
      "execution_count": 402,
      "outputs": [
        {
          "output_type": "execute_result",
          "data": {
            "text/plain": [
              "-0.32892897932801834"
            ]
          },
          "metadata": {
            "tags": []
          },
          "execution_count": 402
        }
      ]
    },
    {
      "cell_type": "markdown",
      "metadata": {
        "id": "1eW7HAHMkZy4"
      },
      "source": [
        "### Polynomial Regression"
      ]
    },
    {
      "cell_type": "code",
      "metadata": {
        "colab": {
          "base_uri": "https://localhost:8080/"
        },
        "id": "iNNlmd84jOE7",
        "outputId": "cfc9176c-e924-4849-fac5-d48eda350e6b"
      },
      "source": [
        "from sklearn.preprocessing import PolynomialFeatures\n",
        "poly_reg = PolynomialFeatures(degree = 4)\n",
        "X_poly = poly_reg.fit_transform(X_train) ## Convert X into polynomial(till degree 2)\n",
        "\n",
        "# Now Implement Linear Regression to this Polynomial X\n",
        "lin_reg_2 = LinearRegression()\n",
        "lin_reg_2.fit(X_poly, Y_train)"
      ],
      "execution_count": 420,
      "outputs": [
        {
          "output_type": "execute_result",
          "data": {
            "text/plain": [
              "LinearRegression(copy_X=True, fit_intercept=True, n_jobs=None, normalize=False)"
            ]
          },
          "metadata": {
            "tags": []
          },
          "execution_count": 420
        }
      ]
    },
    {
      "cell_type": "code",
      "metadata": {
        "colab": {
          "base_uri": "https://localhost:8080/"
        },
        "id": "fEr4jwV7koMc",
        "outputId": "5e664577-300a-422a-8048-2284192e318b"
      },
      "source": [
        "y_pred = lin_reg_2.predict(poly_reg.fit_transform(X_test))\n"
      ],
      "execution_count": 756,
      "outputs": [
        {
          "output_type": "execute_result",
          "data": {
            "text/plain": [
              "6924"
            ]
          },
          "metadata": {
            "tags": []
          },
          "execution_count": 756
        }
      ]
    },
    {
      "cell_type": "code",
      "metadata": {
        "colab": {
          "base_uri": "https://localhost:8080/"
        },
        "id": "lq_yqJYDkvHI",
        "outputId": "81837db2-507e-4684-a772-709033773549"
      },
      "source": [
        "from sklearn.metrics import r2_score\n",
        "r2_score(Y_test, y_pred)"
      ],
      "execution_count": 418,
      "outputs": [
        {
          "output_type": "execute_result",
          "data": {
            "text/plain": [
              "0.027243264081029877"
            ]
          },
          "metadata": {
            "tags": []
          },
          "execution_count": 418
        }
      ]
    },
    {
      "cell_type": "markdown",
      "metadata": {
        "id": "tbBw4c-ZwdbS"
      },
      "source": [
        "# Program"
      ]
    },
    {
      "cell_type": "code",
      "metadata": {
        "id": "bkCnw_Sxwe3A"
      },
      "source": [
        "def Inputs(country, gender, height, weight,sport):\n",
        "  c = cat_data[0].get(country.upper())\n",
        "  g = cat_data[1].get(gender.lower())\n",
        "  s = cat_data[2].get(sport.lower())\n",
        "  h = height\n",
        "  w = weight\n",
        "  list_data = [c,g,h,w,s]\n",
        "  pred = ranForReg.predict([list_data])\n",
        "  # Gold\n",
        "  if pred[0][0] < 0.036:\n",
        "    gold = 0\n",
        "  elif pred[0][0] > 0.036 and pred[0][0] < 0.12:\n",
        "    gold = 1\n",
        "  elif pred[0][0] > 0.12 and pred[0][0] < 0.9:\n",
        "    gold = 2\n",
        "  elif pred[0][0] > 0.9:\n",
        "    gold = '2+'\n",
        "  # Silver\n",
        "  if pred[0][1] < 0.3:\n",
        "    silver = 0\n",
        "  elif pred[0][1] > 0.3 and pred[0][1] < 0.5:\n",
        "    silver = 1\n",
        "  elif pred[0][1] > 0.5:\n",
        "    silver = '1+'\n",
        "  # Bronze\n",
        "  if pred[0][2] < 0.21:\n",
        "    bronze = 0\n",
        "  elif pred[0][2] > 0.21 and pred[0][2] < 4.5:\n",
        "    bronze = 1 \n",
        "  elif pred[0][2] > 4.5:\n",
        "    bronze = '1+'\n",
        "\n",
        "  prediction = [gold, silver, bronze]\n",
        "  return prediction\n",
        "\n"
      ],
      "execution_count": 830,
      "outputs": []
    },
    {
      "cell_type": "code",
      "metadata": {
        "colab": {
          "base_uri": "https://localhost:8080/"
        },
        "id": "4bkgyujSwiep",
        "outputId": "b244cc1a-6c7a-4cb1-9457-c8d5dabcd4e6"
      },
      "source": [
        "Inputs('BRA', 'female',1.82, 70, 'volleyball')"
      ],
      "execution_count": 831,
      "outputs": [
        {
          "output_type": "execute_result",
          "data": {
            "text/plain": [
              "[1, 0, 0]"
            ]
          },
          "metadata": {
            "tags": []
          },
          "execution_count": 831
        }
      ]
    },
    {
      "cell_type": "code",
      "metadata": {
        "id": "OnBxOtpsw_J7"
      },
      "source": [
        ""
      ],
      "execution_count": null,
      "outputs": []
    }
  ]
}